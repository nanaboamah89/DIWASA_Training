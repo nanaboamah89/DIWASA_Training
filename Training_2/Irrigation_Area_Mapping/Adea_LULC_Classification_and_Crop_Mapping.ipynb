{
 "cells": [
  {
   "cell_type": "markdown",
   "metadata": {
    "id": "7984c516"
   },
   "source": [
    "# Land Use Land Cover (LULC) Classification for Irrigated Agricultural Land Mapping "
   ]
  },
  {
   "cell_type": "markdown",
   "metadata": {},
   "source": [
    "* **Products used:** \n",
    "[s2_l2a](https://explorer.digitalearth.africa/s2_l2a)"
   ]
  },
  {
   "cell_type": "raw",
   "metadata": {},
   "source": [
    "**Keywords:** index:`data used; sentinel-2 median composite`, :index:`data methods; supervised classification`, :index:`data methods; machine learning`"
   ]
  },
  {
   "cell_type": "markdown",
   "metadata": {},
   "source": [
    "### Background\n",
    "Land Use and Land Cover (LULC) classification is fundamental for monitoring environmental dynamics, assessing land degradation, and promoting sustainable natural resource management. Accurate and timely information on irrigated and rainfed agricultural systems is also essential for enhancing regional and global food security, optimizing water resource allocation, and informing evidence-based policy decisions. Despite its importance, generating reliable agricultural data remains a persistent challenge, particularly in data-scarce regions. However, recent advancements in remote sensing (RS), machine learning (ML) techniques, and Python programming offer robust, scalable, and cost-effective solutions to address these limitations.\n",
    "\n",
    "In this initiative, the Digital Earth Africa (DE Africa) Sandbox platform was leveraged to **generate high-resolution LULC maps, as well as irrigated and rainfed area maps** for `Adaa Bishoftu district`, found in the `Oromia regional state`, `Ethiopia`. The classification process integrated Sentinel-2 imagery, field-based ground control points (GCPs), and the Random Forest (RF) algorithm to enhance classification accuracy. This approach highlights the potential of combining cloud-based Earth Observation (EO) platforms with ML algorithms to advance agricultural monitoring and support sustainable land and water management practices across Africa.\n",
    "\n",
    "This notebook was developed by Digital Innovations for Water Secure Africa (DIWASA) stakeholders in Ethiopia. Key contributors `Jemal Mohammed Hassen`, `Mulugeta Melese Sime`, `Ashebir Haile Tefera`, `Eden Seifu `, and `Tarikuwa Birhane`, whose commitment, teamwork, and shared vision were instrumental in bringing the notebook to fruition. Their work was further reinforced by the guidance and technical support of the Ethiopian International Water Management Institute (IWMI) team, particularly `Dr. Alemseged Tamiru Haile` and `Mr. Ephrem Derso Negash`, whose expertise ensured the scientific quality and successful completion of this initiative. "
   ]
  },
  {
   "cell_type": "markdown",
   "metadata": {},
   "source": [
    "## Description \n",
    "\n",
    "This notebook demonstrates the creation of an LULC map for irrigated and rainfed agricultural land mapping using a supervised classification technique.  \n",
    "<span style=\"color:'red'\">The activities of this notebook are:</span>\n",
    "- Load essential Python packages and functions \n",
    "- Import the area of interest and the GCPs and define the analysis parameters\n",
    "- Connecting using *DE Africa STAC* to loading Sentinel 2 data\n",
    "- Train and evaluate the random forest classifier for predicting the LULC map\n",
    "- Generate an irrigated agricultural map  \n",
    "---"
   ]
  },
  {
   "cell_type": "markdown",
   "metadata": {},
   "source": [
    "# Getting started \n",
    "Loading relevant Python packages and supporting functions for the analysis is the first step. The packages and functions required for the analysis of this session are provided in the cell below."
   ]
  },
  {
   "cell_type": "code",
   "execution_count": 1,
   "metadata": {
    "colab": {
     "base_uri": "https://localhost:8080/",
     "height": 1000
    },
    "id": "FiWYTezwBNnp",
    "outputId": "92004271-39c6-4a57-d572-fbf46b4b87c2"
   },
   "outputs": [],
   "source": [
    "#Import packages\n",
    "import numpy as np                       # Handles numerical operations and array-based data \n",
    "import pandas as pd\n",
    "import geopandas as gpd       # Manages and analyzes vector geospatial data (shapefiles, GeoJSON)\n",
    "import matplotlib.pyplot as plt          # Creates and customizes plots and visualizations\n",
    "from tqdm.auto import tqdm\n",
    "\n",
    "from sklearn.ensemble import RandomForestClassifier  #Trains a machine learning model for classification tasks\n",
    "from sklearn.model_selection import train_test_split  # Splits datasets into training and testing subsets \n",
    "from sklearn.metrics import classification_report, confusion_matrix, cohen_kappa_score, accuracy_score  # Summarizes model performance with precision, recall, and F1-score"
   ]
  },
  {
   "cell_type": "markdown",
   "metadata": {},
   "source": [
    "The package deafrica_tools contains several functions that help to load, analyze, and generate output from the DE Africa sandbox.  "
   ]
  },
  {
   "cell_type": "code",
   "execution_count": 2,
   "metadata": {},
   "outputs": [
    {
     "name": "stderr",
     "output_type": "stream",
     "text": [
      "/home/jovyan/DIWASA_Training/Training_2/Irrigation_Area_Mapping/tools/irrigated_functions.py:1034: SyntaxWarning: invalid escape sequence '\\ '\n",
      "  print(\"\\  Workflow finished successfully. Outputs:\")\n"
     ]
    }
   ],
   "source": [
    "from deafrica_tools.dask import create_local_dask_cluster # Sets up local parallel processing for large data tasks\n",
    "\n",
    "#Custom functions \n",
    "from tools.irrigated_functions import display_data, connect_stac, clip_roi, save_roi\n",
    "from tools.irrigated_functions import sample_lulc_from_composite, predict_lulc_map, plot_lulc_map\n",
    "from tools.irrigated_functions import irrigation_process, predict_irrigated_rainfed_map\n",
    "from tools.irrigated_functions import plot_irrigated_rainfed_map, export_classification_summary\n",
    "from tools.irrigated_functions import compare_map\n",
    "\n",
    "import warnings            # To manage and control the display of warning messages in Python\n",
    "warnings.filterwarnings(\"ignore\")  # Suppresses warning messages during code"
   ]
  },
  {
   "cell_type": "markdown",
   "metadata": {},
   "source": [
    "### Set up a Dask cluster \n",
    "\n",
    "This will help keep your memory usage down and conduct the analysis in parallel. The DE Africa recommends opening the Dask processing window to view the different computations that are being executed. To use Dask, set up the local computing cluster using the function below in a code cell. "
   ]
  },
  {
   "cell_type": "code",
   "execution_count": 4,
   "metadata": {},
   "outputs": [
    {
     "data": {
      "text/html": [
       "<div>\n",
       "    <div style=\"width: 24px; height: 24px; background-color: #e1e1e1; border: 3px solid #9D9D9D; border-radius: 5px; position: absolute;\"> </div>\n",
       "    <div style=\"margin-left: 48px;\">\n",
       "        <h3 style=\"margin-bottom: 0px;\">Client</h3>\n",
       "        <p style=\"color: #9D9D9D; margin-bottom: 0px;\">Client-0fce0398-b407-11f0-a843-bea541969ea0</p>\n",
       "        <table style=\"width: 100%; text-align: left;\">\n",
       "\n",
       "        <tr>\n",
       "        \n",
       "            <td style=\"text-align: left;\"><strong>Connection method:</strong> Cluster object</td>\n",
       "            <td style=\"text-align: left;\"><strong>Cluster type:</strong> distributed.LocalCluster</td>\n",
       "        \n",
       "        </tr>\n",
       "\n",
       "        \n",
       "            <tr>\n",
       "                <td style=\"text-align: left;\">\n",
       "                    <strong>Dashboard: </strong> <a href=\"/user/nanaboamah89@gmail.com/proxy/8787/status\" target=\"_blank\">/user/nanaboamah89@gmail.com/proxy/8787/status</a>\n",
       "                </td>\n",
       "                <td style=\"text-align: left;\"></td>\n",
       "            </tr>\n",
       "        \n",
       "\n",
       "        </table>\n",
       "\n",
       "        \n",
       "            <button style=\"margin-bottom: 12px;\" data-commandlinker-command=\"dask:populate-and-launch-layout\" data-commandlinker-args='{\"url\": \"/user/nanaboamah89@gmail.com/proxy/8787/status\" }'>\n",
       "                Launch dashboard in JupyterLab\n",
       "            </button>\n",
       "        \n",
       "\n",
       "        \n",
       "            <details>\n",
       "            <summary style=\"margin-bottom: 20px;\"><h3 style=\"display: inline;\">Cluster Info</h3></summary>\n",
       "            <div class=\"jp-RenderedHTMLCommon jp-RenderedHTML jp-mod-trusted jp-OutputArea-output\">\n",
       "    <div style=\"width: 24px; height: 24px; background-color: #e1e1e1; border: 3px solid #9D9D9D; border-radius: 5px; position: absolute;\">\n",
       "    </div>\n",
       "    <div style=\"margin-left: 48px;\">\n",
       "        <h3 style=\"margin-bottom: 0px; margin-top: 0px;\">LocalCluster</h3>\n",
       "        <p style=\"color: #9D9D9D; margin-bottom: 0px;\">fc394b44</p>\n",
       "        <table style=\"width: 100%; text-align: left;\">\n",
       "            <tr>\n",
       "                <td style=\"text-align: left;\">\n",
       "                    <strong>Dashboard:</strong> <a href=\"/user/nanaboamah89@gmail.com/proxy/8787/status\" target=\"_blank\">/user/nanaboamah89@gmail.com/proxy/8787/status</a>\n",
       "                </td>\n",
       "                <td style=\"text-align: left;\">\n",
       "                    <strong>Workers:</strong> 1\n",
       "                </td>\n",
       "            </tr>\n",
       "            <tr>\n",
       "                <td style=\"text-align: left;\">\n",
       "                    <strong>Total threads:</strong> 4\n",
       "                </td>\n",
       "                <td style=\"text-align: left;\">\n",
       "                    <strong>Total memory:</strong> 26.21 GiB\n",
       "                </td>\n",
       "            </tr>\n",
       "            \n",
       "            <tr>\n",
       "    <td style=\"text-align: left;\"><strong>Status:</strong> running</td>\n",
       "    <td style=\"text-align: left;\"><strong>Using processes:</strong> True</td>\n",
       "</tr>\n",
       "\n",
       "            \n",
       "        </table>\n",
       "\n",
       "        <details>\n",
       "            <summary style=\"margin-bottom: 20px;\">\n",
       "                <h3 style=\"display: inline;\">Scheduler Info</h3>\n",
       "            </summary>\n",
       "\n",
       "            <div style=\"\">\n",
       "    <div>\n",
       "        <div style=\"width: 24px; height: 24px; background-color: #FFF7E5; border: 3px solid #FF6132; border-radius: 5px; position: absolute;\"> </div>\n",
       "        <div style=\"margin-left: 48px;\">\n",
       "            <h3 style=\"margin-bottom: 0px;\">Scheduler</h3>\n",
       "            <p style=\"color: #9D9D9D; margin-bottom: 0px;\">Scheduler-12ddd9e9-bcde-49c5-a56f-3af0091d415a</p>\n",
       "            <table style=\"width: 100%; text-align: left;\">\n",
       "                <tr>\n",
       "                    <td style=\"text-align: left;\">\n",
       "                        <strong>Comm:</strong> tcp://127.0.0.1:33529\n",
       "                    </td>\n",
       "                    <td style=\"text-align: left;\">\n",
       "                        <strong>Workers:</strong> 1\n",
       "                    </td>\n",
       "                </tr>\n",
       "                <tr>\n",
       "                    <td style=\"text-align: left;\">\n",
       "                        <strong>Dashboard:</strong> <a href=\"/user/nanaboamah89@gmail.com/proxy/8787/status\" target=\"_blank\">/user/nanaboamah89@gmail.com/proxy/8787/status</a>\n",
       "                    </td>\n",
       "                    <td style=\"text-align: left;\">\n",
       "                        <strong>Total threads:</strong> 4\n",
       "                    </td>\n",
       "                </tr>\n",
       "                <tr>\n",
       "                    <td style=\"text-align: left;\">\n",
       "                        <strong>Started:</strong> Just now\n",
       "                    </td>\n",
       "                    <td style=\"text-align: left;\">\n",
       "                        <strong>Total memory:</strong> 26.21 GiB\n",
       "                    </td>\n",
       "                </tr>\n",
       "            </table>\n",
       "        </div>\n",
       "    </div>\n",
       "\n",
       "    <details style=\"margin-left: 48px;\">\n",
       "        <summary style=\"margin-bottom: 20px;\">\n",
       "            <h3 style=\"display: inline;\">Workers</h3>\n",
       "        </summary>\n",
       "\n",
       "        \n",
       "        <div style=\"margin-bottom: 20px;\">\n",
       "            <div style=\"width: 24px; height: 24px; background-color: #DBF5FF; border: 3px solid #4CC9FF; border-radius: 5px; position: absolute;\"> </div>\n",
       "            <div style=\"margin-left: 48px;\">\n",
       "            <details>\n",
       "                <summary>\n",
       "                    <h4 style=\"margin-bottom: 0px; display: inline;\">Worker: 0</h4>\n",
       "                </summary>\n",
       "                <table style=\"width: 100%; text-align: left;\">\n",
       "                    <tr>\n",
       "                        <td style=\"text-align: left;\">\n",
       "                            <strong>Comm: </strong> tcp://127.0.0.1:33061\n",
       "                        </td>\n",
       "                        <td style=\"text-align: left;\">\n",
       "                            <strong>Total threads: </strong> 4\n",
       "                        </td>\n",
       "                    </tr>\n",
       "                    <tr>\n",
       "                        <td style=\"text-align: left;\">\n",
       "                            <strong>Dashboard: </strong> <a href=\"/user/nanaboamah89@gmail.com/proxy/38583/status\" target=\"_blank\">/user/nanaboamah89@gmail.com/proxy/38583/status</a>\n",
       "                        </td>\n",
       "                        <td style=\"text-align: left;\">\n",
       "                            <strong>Memory: </strong> 26.21 GiB\n",
       "                        </td>\n",
       "                    </tr>\n",
       "                    <tr>\n",
       "                        <td style=\"text-align: left;\">\n",
       "                            <strong>Nanny: </strong> tcp://127.0.0.1:36943\n",
       "                        </td>\n",
       "                        <td style=\"text-align: left;\"></td>\n",
       "                    </tr>\n",
       "                    <tr>\n",
       "                        <td colspan=\"2\" style=\"text-align: left;\">\n",
       "                            <strong>Local directory: </strong> /tmp/dask-scratch-space/worker-mwrjb8se\n",
       "                        </td>\n",
       "                    </tr>\n",
       "\n",
       "                    \n",
       "\n",
       "                    \n",
       "\n",
       "                </table>\n",
       "            </details>\n",
       "            </div>\n",
       "        </div>\n",
       "        \n",
       "\n",
       "    </details>\n",
       "</div>\n",
       "\n",
       "        </details>\n",
       "    </div>\n",
       "</div>\n",
       "            </details>\n",
       "        \n",
       "\n",
       "    </div>\n",
       "</div>"
      ],
      "text/plain": [
       "<Client: 'tcp://127.0.0.1:33529' processes=1 threads=4, memory=26.21 GiB>"
      ]
     },
     "metadata": {},
     "output_type": "display_data"
    }
   ],
   "source": [
    "# Set up a dask cluster\n",
    "create_local_dask_cluster()"
   ]
  },
  {
   "cell_type": "markdown",
   "metadata": {},
   "source": [
    "## Analysis parameters\n",
    "• `path`: The path to the input vector file that we will use in the training (`roi, lulc_gcps, and irrig_gcp`)\n",
    "\n",
    "• `class_attr`: This is the name of the column in the training points attribute table that contains the class labels.\n",
    "\n",
    "• `output_crs`: Output spatial reference system (`epsg:32735`)."
   ]
  },
  {
   "cell_type": "code",
   "execution_count": 5,
   "metadata": {},
   "outputs": [],
   "source": [
    "#Input Datasets\n",
    "roi_path = 'Data/Adea_Bishoftu_District.geojson'\n",
    "lulc_gcp_path = 'Data/All_LULC_GCPs_v3_10m.geojson'\n",
    "irrig_gcp_path = 'Data/Adea_irrigated_rainfed__GCP_8m.geojson'\n",
    "\n",
    "#Output Filepath\n",
    "filepath = \"Results\"\n",
    "\n",
    "#Saving Geotiffs\n",
    "output_composite = 'composite_multiband'\n",
    "predicted_lulc_map = 'lulc_map_predicted'\n",
    "irrigation_composite = 'lirrigation_map_predicted'\n",
    "agri_masked = 'agri_masked'\n",
    "irrigated_rainfed = 'irrigated_rainfed'\n",
    "\n",
    "#Column to use for classification\n",
    "class_attr = 'landcover'\n",
    "\n",
    "#Coordinate Systems to Implement\n",
    "output_crs='epsg:32735' # WGS84/UTM Zone 37N\n",
    "\n",
    "### Defining Agricultural Class for LULC Map\n",
    "### This variable is used later to `mask agricultural areas` for irrigated and rainfed land classification.\n",
    "AG_CLASS = 1\n",
    "\n",
    "# Define colors for each class\n",
    "class_colors = {\n",
    "        1: '#eaf30c',      # Agriculture\n",
    "        2: 'darkgreen',    # Forest\n",
    "        3: '#dc10a5',      # Bareland\n",
    "        4: '#ff2e07',      # Settlement\n",
    "        5: 'orange',       # Shrubland\n",
    "        6: '#4c11ff'       # Waterbody\n",
    "    }\n",
    "\n",
    "class_info = {\n",
    "    1: (\"Agriculture\", \"#eaf30c\"),\n",
    "    2: (\"Forest\", \"#3d6600\"),\n",
    "    3: (\"Bareland\", \"#dc10a5\"),\n",
    "    4: (\"Settlement\", \"#ff2e07\"),\n",
    "    5: (\"Shrubland\", \"#36ff0d\"),\n",
    "    6: (\"Waterbody\", \"#4c11ff\"),\n",
    "}\n",
    "\n",
    "# Connect to DE Africa STAC and search Sentinel-2 L2A items for your bbox/time\n",
    "collection_name = \"s2_l2a\"\n",
    "\n",
    "# Updated band names based on STAC item inspection\n",
    "bands = [\"B02\",\"B03\",\"B04\",\"B08\",\"B11\",\"B12\"]\n",
    "\n",
    "# Time window - you can adjust. Original was in the future, trying a past range.\n",
    "time_range = \"2024-12-01/2025-04-30\" # Adjusted time range"
   ]
  },
  {
   "cell_type": "code",
   "execution_count": 6,
   "metadata": {},
   "outputs": [],
   "source": [
    "#Setting Up Varables Environments\n",
    "#path to save files\n",
    "output_composite = f\"{filepath}/{output_composite}\"\n",
    "predicted_lulc_map = f\"{filepath}/{predicted_lulc_map}\"\n",
    "irrigation_composite = f\"{filepath}/{irrigation_composite}\"\n",
    "agri_masked = f\"{filepath}/{agri_masked}\"\n",
    "irrigated_rainfed = f\"{filepath}/{irrigated_rainfed}\"\n",
    "\n",
    "# Read input Datasets with GeoPandas and compute bbox for STAC query\n",
    "roi_gdf = gpd.read_file(roi_path)\n",
    "gdf_lulc = gpd.read_file(lulc_gcp_path)\n",
    "gdf_irrig = gpd.read_file(irrig_gcp_path)\n",
    "\n",
    "# bbox for STAC: [minx, miny, maxx, maxy]\n",
    "bbox = list(roi_gdf.total_bounds)\n",
    "\n",
    "# Select columns for the training points\n",
    "training_points=gdf_lulc[[class_attr,'geometry']] # select attributes"
   ]
  },
  {
   "cell_type": "markdown",
   "metadata": {},
   "source": [
    "### Preview input data\n",
    "We can load and preview our input data using geopandas. Visualizing the points on an interactive map helps you confirm their spatial distribution and labeling accuracy before classification."
   ]
  },
  {
   "cell_type": "code",
   "execution_count": null,
   "metadata": {},
   "outputs": [],
   "source": [
    "# Plot first five rows using the head() method\n",
    "training_points.head()"
   ]
  },
  {
   "cell_type": "markdown",
   "metadata": {},
   "source": [
    "Displaying all training data at once can slow down map rendering. To keep it manageable, let’s visualize the first 200 samples on an interactive map. "
   ]
  },
  {
   "cell_type": "code",
   "execution_count": null,
   "metadata": {},
   "outputs": [],
   "source": [
    "# Preview a limited number of points\n",
    "display_data(dataset = training_points, \n",
    "             rows = 693, \n",
    "             color_code = class_colors,\n",
    "             column = class_attr)"
   ]
  },
  {
   "cell_type": "markdown",
   "metadata": {},
   "source": [
    "## Connect to DE Africa STAC and search Sentinel-2 data\n",
    "\n",
    "The SpatioTemporal Asset Catalog (STAC) is a standardized framework and API used to connect DE Africa geospatial datasets based on their spatial and temporal attributes. The DE Africa STAC serves as an API interface, providing access to metadata and download links (https://explorer.digitalearth.africa/stac) for DE Africa datasets. \n",
    "\n",
    "The code below connects to the Digital Earth Africa `STAC` catalog, searches for `Sentinel-2 L2A` imagery within a specified `bounding box` and `time range`, and implements a `retry mechanism` to handle connection failures, printing the number of retrieved items."
   ]
  },
  {
   "cell_type": "code",
   "execution_count": null,
   "metadata": {
    "colab": {
     "base_uri": "https://localhost:8080/",
     "height": 34
    },
    "id": "74561245",
    "outputId": "eabcaaf1-e693-46fc-da0d-8636c0ed8a52",
    "scrolled": true
   },
   "outputs": [],
   "source": [
    "# Load Sentinel 2 dataset through STAC\n",
    "composite = connect_stac(collection_id = collection_name, bbox = bbox, time_range = time_range, bands = bands, resolution = 10)\n",
    "\n",
    "# Clip composite to ROI and ensure CRS consistency\n",
    "clip_composite = clip_roi(roi_gdf, composite)\n",
    "\n",
    "# Save composite map\n",
    "final_composite = save_roi(clip_composite, output_composite, bands)"
   ]
  },
  {
   "cell_type": "markdown",
   "metadata": {},
   "source": [
    "### Sampling raster pixels under polygons for supervised classification\n",
    "\n",
    "The function `sample_from_polygons` extracts training data for `supervised classification` by sampling pixel values from a raster image within labeled polygon regions. For each polygon in a `GeoDataFrame`, it masks the raster to extract pixel values from specified bands, `filters out no-data values`, and pairs the valid pixel vectors with corresponding class labels from the polygon's `class` attribute. The function returns two arrays: \n",
    "* a feature matrix containing all sampled pixel values and a label vector with corresponding class identifiers,\n",
    "\n",
    "* creating the structured dataset needed to train a machine learning classifier for image analysis.\n",
    "\n",
    "### Sampling LULC training data from ground control polygons\n",
    "\n",
    "The code below prepares and extracts `training samples` for `classification` from the satellite image composite using GCPs. It first checks whether the LULC `GeoDataFrame` `gdf_lulc` contains a column named `landcover`, which holds the class labels (e.g., agriculture, forest, water). If present, it renames this column to `class` to maintain consistency with the previously defined `sample_from_polygons` function.\n",
    "After ensuring the correct column naming and coordinate reference system alignment with the composite raster, the code calls the `sample_from_polygons` function to extract pixel values from the composite image under each labeled polygon. These pixel values `X_lulc` serve as the `feature data`, and their corresponding class labels `y_lulc` serve as the `target data` for training a supervised machine learning model. Finally, it prints the shape of the feature matrix and the distribution of class labels, providing a quick summary of the sampled dataset.\n"
   ]
  },
  {
   "cell_type": "code",
   "execution_count": null,
   "metadata": {
    "colab": {
     "base_uri": "https://localhost:8080/",
     "height": 17
    },
    "id": "HpmU4tWCrkRE",
    "outputId": "ca5bf98f-9b47-4086-8338-a391d8300ca7"
   },
   "outputs": [],
   "source": [
    "X_lulc, y_lulc = sample_lulc_from_composite(\n",
    "    gdf_lulc=gdf_lulc,\n",
    "    composite=final_composite,\n",
    "    comp_tif= output_composite,\n",
    "    bands=bands,\n",
    "    column= class_attr,        # change if your column name differs\n",
    ")"
   ]
  },
  {
   "cell_type": "markdown",
   "metadata": {},
   "source": [
    "## Training, testing, and evaluating the RF algorithm for LULC classification\n",
    "\n",
    "The code below performs the `training` and `testing` of a `Random Forest (RF)` algorithm to classify LULC types based on spectral information extracted from satellite imagery. \n",
    "The dataset is divided into `training (80%)` and `testing (20%)` subsets using the `train_test_split()` function.\n",
    "* The `stratify=y_lulc` parameter ensures that each land cover class is proportionally represented in both subsets. This prevents class imbalance issues during model evaluation.\n",
    "* A RF classifier is created with `200` decision trees `n_estimators=200` for stable and accurate classification.\n",
    "* `random_state=42` ensures reproducible results.\n",
    "* `n_jobs=-1` allows the model to use all CPU cores for faster training.\n",
    "The model is then trained `fit` using the training data `X_tr, y_tr`, enabling it to learn the relationships between spectral band values and land cover classes.\n",
    "* The trained model predicts land cover types for the test dataset `X_te`, producing a set of predicted class labels `y_pred_te`\n",
    "* Several key classification metrics including `Accuracy score`, `Cohen’s Kappa`, `Confusion matrix`, and `Classification report` are computed to evaluate model accuracy.\n",
    "\n",
    "The computed metrics are printed in a clear summary, including the detailed classification report, confusion matrix, Kappa statistic, and overall accuracy percentage"
   ]
  },
  {
   "cell_type": "code",
   "execution_count": null,
   "metadata": {},
   "outputs": [],
   "source": [
    "# --- Sanity check ---------------------------------------------------------------\n",
    "assert X_lulc.shape[0] > 0, \"No LULC samples extracted; check GCP geometries & intersection.\"\n",
    "\n",
    "# --- Split data into training and test sets -------------------------------------\n",
    "X_tr, X_te, y_tr, y_te = train_test_split(\n",
    "    X_lulc, y_lulc, test_size=0.2, random_state=42, stratify=y_lulc\n",
    ")\n",
    "\n",
    "# --- Initialize Random Forest ---------------------------------------------------\n",
    "n_estimators = 200\n",
    "rf_lulc = RandomForestClassifier(\n",
    "    n_estimators=0,  # start at 0, will grow incrementally\n",
    "    warm_start=True,\n",
    "    random_state=42,\n",
    "    n_jobs=-1\n",
    ")\n",
    "\n",
    "print(\"Training LULC Random Forest...\")\n",
    "step = 20  # number of trees per iteration\n",
    "with tqdm(total=n_estimators, desc=\"Building trees\", unit=\"tree\") as pbar:\n",
    "    built = 0\n",
    "    while built < n_estimators:\n",
    "        add = min(step, n_estimators - built)\n",
    "        rf_lulc.n_estimators = built + add\n",
    "        rf_lulc.fit(X_tr, y_tr)\n",
    "        built += add\n",
    "        pbar.update(add)\n",
    "\n",
    "# --- Predictions & Metrics ------------------------------------------------------\n",
    "y_pred_te = rf_lulc.predict(X_te)\n",
    "\n",
    "accuracy_lulc = accuracy_score(y_te, y_pred_te)\n",
    "kappa_lulc = cohen_kappa_score(y_te, y_pred_te)\n",
    "conf_matrix_lulc = confusion_matrix(y_te, y_pred_te)\n",
    "report_dict = classification_report(y_te, y_pred_te, output_dict=True)\n",
    "\n",
    "# --- Format report as DataFrame -------------------------------------------------\n",
    "report_df = pd.DataFrame(report_dict).T\n",
    "report_df.index.name = \"Class\"\n",
    "report_df = report_df.rename(columns={\n",
    "    \"precision\": \"Precision\",\n",
    "    \"recall\": \"Recall\",\n",
    "    \"f1-score\": \"F1-Score\",\n",
    "    \"support\": \"Samples\"\n",
    "})\n",
    "\n",
    "# Round numeric columns for readability\n",
    "report_df[[\"Precision\", \"Recall\", \"F1-Score\"]] = report_df[[\"Precision\", \"Recall\", \"F1-Score\"]].round(3)\n",
    "\n",
    "# --- Display Results ------------------------------------------------------------\n",
    "print(\"\\nLULC Random Forest Training Complete\\n\")\n",
    "print(f\"Overall Accuracy: {accuracy_lulc*100:.2f}%\")\n",
    "print(f\"Cohen’s Kappa: {kappa_lulc:.3f}\\n\")\n",
    "\n",
    "print(\"Classification Report (summary):\")\n",
    "display(report_df)\n",
    "\n",
    "print(\"Confusion Matrix:\")\n",
    "display((pd.DataFrame(conf_matrix_lulc)))"
   ]
  },
  {
   "cell_type": "markdown",
   "metadata": {},
   "source": [
    "## Generating and Exporting the Predicted LULC Map\n",
    "\n",
    "Apply the trained `RF` model to the entire satellite image composite to produce a `pixel-level` LULC classification map, then save the resulting map as a `GeoTIFF` file for further analysis.\n",
    "* The composite image `comp_tif` is opened using `rasterio`, and its metadata (spatial resolution, CRS, and dimensions) is copied for later use in saving the output. The raster data is read into memory as a `NumPy` array with the shape (`bands`, `height`, `width`)\n",
    "* The model `rf_lulc` predicts land cover classes only for valid pixels. The predictions are stored in a flat array `preds`, initialized with `NaN` to preserve invalid areas.\n",
    "* The saved `GeoTIFF` file contains the classified LULC map, where each pixel represents the land cover class predicted by the `RF` model. This output can be visualized in GIS software or used in further spatial analyses"
   ]
  },
  {
   "cell_type": "code",
   "execution_count": null,
   "metadata": {},
   "outputs": [],
   "source": [
    "predicted_path = predict_lulc_map(model=rf_lulc, comp_tif = output_composite, out_path=predicted_lulc_map)"
   ]
  },
  {
   "cell_type": "markdown",
   "metadata": {},
   "source": [
    "### Visualizing the Predicted LULC Map\n",
    "\n",
    "The code below helps to visualize the classified LULC map generated from the `RF` model using `matplotlib` and `rasterio`\n",
    "* Loads the `GeoTIFF` LULC map and extracts its georeferencing information (CRS and transform).\n",
    "* Defines LULC class labels and their corresponding colors for visualization.\n",
    "* Creates a `custom color map` and `legend` to represent each land cover type clearly."
   ]
  },
  {
   "cell_type": "code",
   "execution_count": null,
   "metadata": {},
   "outputs": [],
   "source": [
    "fig, ax = plot_lulc_map(\n",
    "    lulc_tif= predicted_path,\n",
    "    class_info=class_info,\n",
    "    title=\"Predicted LULC Map\",\n",
    "    legend_loc=\"lower right\",\n",
    "    enable_scalebar=True,\n",
    "    scalebar_loc=\"lower left\",\n",
    "    enable_north_arrow=True,\n",
    "    north_arrow_loc=\"upper left\",\n",
    ")\n",
    "\n",
    "plt.show()"
   ]
  },
  {
   "cell_type": "markdown",
   "metadata": {},
   "source": [
    "## Create agricultural mask from LULC map \n",
    "\n",
    "The agricultural mask creates a `binary mask` that isolates agricultural areas from the LULC classes based on a predefined class value (`AG_CLASS`). \n",
    "* The `line agri_mask` = (`lulc_map == AG_CLASS`) generates a Boolean array where pixels classified as agriculture are marked as `True (1)` and all others as `False (0)`.\n",
    "* The code then checks whether any agricultural pixels were found; if not, it prints a warning message indicating that the specified class (`AG_CLASS`) does not exist in the LULC map."
   ]
  },
  {
   "cell_type": "markdown",
   "metadata": {},
   "source": [
    "### Sampling training data for irrigated and rainfed agriculture classification\n",
    "\n",
    "The code below extracts spectral pixel values from the satellite composite beneath ground control polygons representing `irrigated` and `rainfed` areas. The resulting datasets (`X_irrig`, `y_irrig`) are used to train a machine learning model to distinguish between irrigated and rainfed agricultural areas."
   ]
  },
  {
   "cell_type": "code",
   "execution_count": null,
   "metadata": {},
   "outputs": [],
   "source": [
    "result = irrigation_process(\n",
    "    lulc_tif=predicted_path,\n",
    "    ag_class=AG_CLASS,\n",
    "    gdf_irrig=gdf_irrig,      # polygons with irrig/rainfed labels\n",
    "    comp_tif=output_composite,        # original composite GeoTIFF\n",
    "    bands=bands,\n",
    "    out_masked_tif=agri_masked,\n",
    "    class_col='class',    # change if needed\n",
    ")\n",
    "\n",
    "agri_mask = result[\"agri_mask\"]\n",
    "masked_comp_tif = result[\"masked_tif\"]\n",
    "X_irrig = result[\"X_irrig\"]\n",
    "y_irrig = result[\"y_irrig\"]"
   ]
  },
  {
   "cell_type": "markdown",
   "metadata": {},
   "source": [
    "## Training and Evaluating RF algorithm for irrigated and rainfed mapping \n",
    "\n",
    "The RF classifier was used to classify agricultural pixels into `irrigated` and `rainfed` agricultural areas using pixel samples extracted from satellite imagery and GCPs.\n",
    "\n",
    "* The dataset was split into `training` (`80%`) and `testing` (`20%`).\n",
    "* key performance metrics, including: `Accuracy score`, `Cohen’s Kappa`, `Confusion matrix`, and `Classification report` were computed."
   ]
  },
  {
   "cell_type": "code",
   "execution_count": null,
   "metadata": {},
   "outputs": [],
   "source": [
    "# --- Sanity check ---------------------------------------------------------------\n",
    "assert X_irrig.shape[0] > 0, \"No irrig/rainfed samples extracted; check GCP geometries & intersection.\"\n",
    "\n",
    "# --- Train / test split ---------------------------------------------------------\n",
    "Xtr_i, Xte_i, ytr_i, yte_i = train_test_split(\n",
    "    X_irrig, y_irrig, test_size=0.2, random_state=42, stratify=y_irrig\n",
    ")\n",
    "\n",
    "# --- Train Random Forest with progress -----------------------------------------\n",
    "n_estimators = 200\n",
    "step = 20  # trees added per iteration for smoother progress\n",
    "rf_irrig = RandomForestClassifier(\n",
    "    n_estimators=0,   # grow incrementally\n",
    "    warm_start=True,\n",
    "    random_state=42,\n",
    "    n_jobs=-1\n",
    ")\n",
    "\n",
    "print(\"Training irrigated vs rainfed RF...\")\n",
    "built = 0\n",
    "if tqdm is not None:\n",
    "    pbar = tqdm(total=n_estimators, desc=\"Building trees\", unit=\"tree\")\n",
    "else:\n",
    "    pbar = None\n",
    "\n",
    "while built < n_estimators:\n",
    "    add = min(step, n_estimators - built)\n",
    "    rf_irrig.n_estimators = built + add\n",
    "    rf_irrig.fit(Xtr_i, ytr_i)\n",
    "    built += add\n",
    "    if pbar is not None:\n",
    "        pbar.update(add)\n",
    "\n",
    "if pbar is not None:\n",
    "    pbar.close()\n",
    "\n",
    "# --- Predict & metrics ----------------------------------------------------------\n",
    "ypred_i = rf_irrig.predict(Xte_i)\n",
    "\n",
    "accuracy_i = accuracy_score(yte_i, ypred_i)\n",
    "kappa_i = cohen_kappa_score(yte_i, ypred_i)\n",
    "conf_matrix_i = confusion_matrix(yte_i, ypred_i)\n",
    "report_dict = classification_report(yte_i, ypred_i, output_dict=True)\n",
    "\n",
    "# Build a clean DataFrame from the classification report\n",
    "report_df = pd.DataFrame(report_dict).T.rename(columns={\n",
    "    \"precision\": \"Precision\",\n",
    "    \"recall\": \"Recall\",\n",
    "    \"f1-score\": \"F1-Score\",\n",
    "    \"support\": \"Samples\"\n",
    "})\n",
    "num_cols = [\"Precision\", \"Recall\", \"F1-Score\"]\n",
    "report_df[num_cols] = report_df[num_cols].applymap(lambda x: round(x, 3) if isinstance(x, (int, float, np.floating)) else x)\n",
    "report_df[\"Samples\"] = report_df[\"Samples\"].astype(int)\n",
    "\n",
    "# Confusion matrix as a labeled DataFrame\n",
    "classes_sorted = sorted(np.unique(np.concatenate([ytr_i, yte_i])))\n",
    "cm_df = pd.DataFrame(conf_matrix_i, index=[f\"True_{c}\" for c in classes_sorted],\n",
    "                     columns=[f\"Pred_{c}\" for c in classes_sorted])\n",
    "\n",
    "# --- Display nicely -------------------------------------------------------------\n",
    "print(\"\\nIrrigated vs Rainfed RF — Evaluation Summary\")\n",
    "print(f\"Overall Accuracy: {accuracy_i*100:.2f}%\")\n",
    "print(f\"Cohen’s Kappa: {kappa_i:.3f}\\n\")\n",
    "\n",
    "print(\"Classification Report:\")\n",
    "display(report_df)\n",
    "\n",
    "print(\"\\nConfusion Matrix:\")\n",
    "display(cm_df)\n",
    "\n",
    "# --- Optional: feature importances (top 15) ------------------------------------\n",
    "if hasattr(rf_irrig, \"feature_importances_\"):\n",
    "    fi = pd.Series(rf_irrig.feature_importances_)\n",
    "    # Try to use 'bands' names if available and matches feature count\n",
    "    if \"bands\" in globals() and isinstance(bands, (list, tuple)) and len(bands) == fi.shape[0]:\n",
    "        fi.index = list(bands)\n",
    "    else:\n",
    "        fi.index = [f\"Band_{i+1}\" for i in range(fi.shape[0])]\n",
    "    fi_df = fi.sort_values(ascending=False).head(min(15, fi.shape[0])).to_frame(\"Gini Importance\")\n",
    "    print(\"\\nTop Feature Importances:\")\n",
    "    display(fi_df)"
   ]
  },
  {
   "cell_type": "markdown",
   "metadata": {},
   "source": [
    "### Generating irrigated and rainfed agricultural map\n",
    "\n",
    "This step produces a spatially explicit map of irrigated and rainfed agricultural areas by applying the trained model only to agricultural pixels, creating a georeferenced output ready for analysis or visualization. \n",
    "\n",
    "* The code uses the previously created `agri_mask` to locate indices of pixels classified as agriculture. This ensures that `irrigation classification` is applied only within agricultural areas, ignoring `non-agricultural` land.\n",
    "* The trained `RF` irrigation model (`rf_irrig`) predicts `irrigated` and `rainfed` classes for valid agricultural pixels.\n",
    "* Saves the map as a GeoTIFF (`irrigated_rainfed.tif`) with georeferencing and spatial metadata intact."
   ]
  },
  {
   "cell_type": "code",
   "execution_count": null,
   "metadata": {},
   "outputs": [],
   "source": [
    "# 1) Predict irrigated/rainfed only inside agri pixels\n",
    "out_irrig_tif, irrig_map = predict_irrigated_rainfed_map(\n",
    "    model=rf_irrig,\n",
    "    comp_tif=output_composite,\n",
    "    agri_mask=agri_mask,           # boolean mask aligned to comp_tif\n",
    "    out_path=irrigated_rainfed,\n",
    ")\n",
    "\n",
    "# 2) Plot with unified class dict\n",
    "class_info = {\n",
    "    0: (\"Other LULC classes\", \"#ffffff\"),\n",
    "    1: (\"Irrigated Agriculture\", \"#682215\"),\n",
    "    2: (\"Rainfed Agriculture\", \"#eaf30c\"),\n",
    "}\n",
    "\n",
    "fig, ax = plot_irrigated_rainfed_map(\n",
    "    irrig_tif=out_irrig_tif,\n",
    "    class_info=class_info,\n",
    "    title=\"Irrigated vs Rainfed Agricultural Land\",\n",
    "    legend_loc=\"lower right\",\n",
    "    grid=True,\n",
    ")\n",
    "\n",
    "plt.show()"
   ]
  },
  {
   "cell_type": "markdown",
   "metadata": {},
   "source": [
    "### Visualizing irrigated and rainfed agricultural areas\n",
    "\n",
    "This step produces a visually intuitive map of agricultural land, distinguishing irrigated from rainfed areas by creating a `color-coded`, and `georeferenced plot`. \n"
   ]
  },
  {
   "cell_type": "markdown",
   "metadata": {},
   "source": [
    "### Exporting classification accuracy metrics and workflow summary\n",
    "\n",
    "This code saves the confusion matrices for both LULC and irrigated and rainfed classifications as `CSV` files for reporting and analysis, and provides a summary of all workflow outputs."
   ]
  },
  {
   "cell_type": "markdown",
   "metadata": {
    "id": "15a6d21f"
   },
   "source": [
    "### Calculate Area of Irrigated and Rainfed Land\n",
    "The code below computes the total area of irrigated and rainfed croplands from a classified raster by counting the number of pixels in each class and converting it to hectares.\n",
    "* `classified_raster`: path to the classified GeoTIFF (`irrigated and rainfed map`).\n",
    "* `class_mapping`: dictionary linking class values to labels ({`1: Irrigated`, `2: Rainfed`}).\n",
    "* `pixel_size`: spatial resolution of the raster in meters (`10 m for Sentinel-2`)"
   ]
  },
  {
   "cell_type": "code",
   "execution_count": null,
   "metadata": {},
   "outputs": [],
   "source": [
    "class_mapping = {1: \"Irrigated\", 2: \"Rainfed\"}\n",
    "\n",
    "summary_csv = export_classification_summary(\n",
    "    out_dir=\"Results\",\n",
    "    y_te=y_te, y_pred_te=y_pred_te,\n",
    "    yte_i=yte_i, ypred_i=ypred_i,\n",
    "    accuracy_lulc=accuracy_lulc,\n",
    "    kappa_lulc=kappa_lulc,\n",
    "    accuracy_i=accuracy_i,\n",
    "    kappa_i=kappa_i,\n",
    "    comp_tif=output_composite,\n",
    "    out_lulc_tif=predicted_path,\n",
    "    out_irrig_tif=irrigated_rainfed,\n",
    "    class_mapping=class_mapping,\n",
    "    pixel_size=10,\n",
    ")\n",
    "\n",
    "print(f\"\\n Final summary CSV saved at: {summary_csv}\")"
   ]
  },
  {
   "cell_type": "markdown",
   "metadata": {},
   "source": [
    "### Comparison of the IWMI and Predicted Irrigated Mapping"
   ]
  },
  {
   "cell_type": "code",
   "execution_count": 8,
   "metadata": {},
   "outputs": [
    {
     "data": {
      "image/png": "[encoded data removed]",
      "text/plain": [
       "<Figure size 1300x600 with 2 Axes>"
      ]
     },
     "metadata": {},
     "output_type": "display_data"
    }
   ],
   "source": [
    "class_info_pred = {\n",
    "    1: (\"Irrigated Agriculture\", \"#682215\"),\n",
    "    2: (\"Rainfed Agriculture\", \"#eaf30c\"),\n",
    "}\n",
    "\n",
    "class_info_iwmi = {\n",
    "    0: (\"Irrigated Agriculture\", \"#682215\"),\n",
    "    1: (\"Rainfed Agriculture\", \"#eaf30c\"),\n",
    "}\n",
    "\n",
    "out = compare_map(\n",
    "    other_map_path_or_url=f\"{irrigated_rainfed}.tif\",\n",
    "    aoi_path=roi_path,\n",
    "    iwmi_url_or_path=None,  # auto-pick first IWMI raster from S3\n",
    "    resampling_for_align=\"nearest\",\n",
    "    class_info_pred=class_info_pred,\n",
    "    class_info_iwmi=class_info_iwmi,\n",
    "    title_iwmi=\"IWMI Irrigated Map\",\n",
    "    title_pred=\"Predicted Irrigated Map\",\n",
    ")"
   ]
  },
  {
   "cell_type": "code",
   "execution_count": null,
   "metadata": {},
   "outputs": [],
   "source": []
  }
 ],
 "metadata": {
  "accelerator": "GPU",
  "colab": {
   "gpuType": "T4",
   "provenance": []
  },
  "kernelspec": {
   "display_name": "Python 3 (ipykernel)",
   "language": "python",
   "name": "python3"
  },
  "language_info": {
   "codemirror_mode": {
    "name": "ipython",
    "version": 3
   },
   "file_extension": ".py",
   "mimetype": "text/x-python",
   "name": "python",
   "nbconvert_exporter": "python",
   "pygments_lexer": "ipython3",
   "version": "3.12.3"
  }
 },
 "nbformat": 4,
 "nbformat_minor": 4
}
